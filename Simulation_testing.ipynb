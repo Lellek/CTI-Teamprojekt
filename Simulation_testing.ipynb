{
 "cells": [
  {
   "cell_type": "markdown",
   "id": "ccdc0fcf",
   "metadata": {},
   "source": [
    "# Simulate attack technique combinations\n",
    "This file was used to test out some methods of simulation to get good ap results. The simulation itself was done in CreateSim.\n",
    "## Create ground truth for malware\n",
    "### Get data from DB"
   ]
  },
  {
   "cell_type": "code",
   "execution_count": 1,
   "id": "b396c710",
   "metadata": {},
   "outputs": [],
   "source": [
    "from neo4j import GraphDatabase\n",
    "from neo4j import GraphDatabase\n",
    "import matplotlib.pyplot as plt\n",
    "from sklearn.metrics import average_precision_score\n",
    "import random\n",
    "import time\n",
    "import numpy as np"
   ]
  },
  {
   "cell_type": "code",
   "execution_count": 7,
   "id": "614e4545",
   "metadata": {},
   "outputs": [],
   "source": [
    "driver = GraphDatabase.driver(uri = \"bolt://localhost:7687\", auth = (\"neo4j\", \"team\"))\n",
    "\n",
    "mal_att = []\n",
    "mal =[]\n",
    "with driver.session() as session:\n",
    "    result = session.run(\"MATCH (mal:Malware)--(att:Attack) RETURN mal, att\")\n",
    "    result2 = session.run(\"MATCH (mal:Malware) RETURN mal\")\n",
    "    for el in result:\n",
    "        mal_att.append(el)\n",
    "    for malware in result2:\n",
    "        mal.append(malware[\"mal\"][\"name\"])"
   ]
  },
  {
   "cell_type": "markdown",
   "id": "75795d50",
   "metadata": {},
   "source": [
    "### Create GT dict"
   ]
  },
  {
   "cell_type": "code",
   "execution_count": 11,
   "id": "8f154c07",
   "metadata": {},
   "outputs": [],
   "source": [
    "mal_gt = {}\n",
    "gt = [0] * 566\n",
    "\n",
    "test = mal_att[0][\"mal\"]\n",
    "test[0]\n",
    "\n",
    "for malware in mal:\n",
    "    for el in mal_att:\n",
    "        if el[\"mal\"][\"name\"] == malware:\n",
    "            gt[el[\"att\"].id] = 1\n",
    "        else:\n",
    "            pass\n",
    "    mal_gt[malware] = gt\n",
    "    gt = [0] * 566"
   ]
  },
  {
   "cell_type": "markdown",
   "id": "74b2b2ad",
   "metadata": {},
   "source": [
    "## Different simulation techniques\n"
   ]
  },
  {
   "cell_type": "markdown",
   "id": "2c32338c",
   "metadata": {},
   "source": [
    "### Functions"
   ]
  },
  {
   "cell_type": "code",
   "execution_count": 123,
   "id": "3f76de56",
   "metadata": {},
   "outputs": [],
   "source": [
    "def calc_aps(simulations):\n",
    "    start = time.time()\n",
    "    aps = []\n",
    "    for sim in simulations:\n",
    "        aps.append(average_precision_score(mal_gt[\"3PARA RAT\"], sim))\n",
    "    t = time.time()-start\n",
    "    print(f\"Time needed to calculate the average precisions for one Malware based on {N} simulations: {t}s\")\n",
    "    a = max(aps)\n",
    "    print(f\"The maximum obtained average precision is: {a}\")\n",
    "    plt.hist(aps)\n",
    "    plt.show()\n",
    "    return aps"
   ]
  },
  {
   "cell_type": "markdown",
   "id": "0062e1f3",
   "metadata": {},
   "source": [
    "### Simple Bruteforce\n",
    "In this approach the vectors of probabilities for techniques are created by generating random values for each techniques based on a uniform distribution.\n",
    "In a second step the average precisions for a malware are calculated, based on all the simulated technique probability vectors."
   ]
  },
  {
   "cell_type": "code",
   "execution_count": 15,
   "id": "1217c56f",
   "metadata": {},
   "outputs": [
    {
     "name": "stdout",
     "output_type": "stream",
     "text": [
      "Time needed to create 100000 technique probability vectors: 68.44042301177979s\n"
     ]
    }
   ],
   "source": [
    "N = 100000\n",
    "start = time.time()\n",
    "simulations = []\n",
    "for i in range(N):\n",
    "    simulation = []\n",
    "    for x in range(566):\n",
    "        simulation.append(random.randrange(0, 11, 1)/10)\n",
    "    simulations.append(simulation)\n",
    "t = time.time()-start\n",
    "print(f\"Time needed to create {N} technique probability vectors: {t}s\")"
   ]
  },
  {
   "cell_type": "code",
   "execution_count": 16,
   "id": "13fcb90c",
   "metadata": {},
   "outputs": [
    {
     "name": "stdout",
     "output_type": "stream",
     "text": [
      "Time needed to calculate the average precisions for one Malware based on 100000 simulations: 96.30929446220398s\n",
      "The maximum obtained average precision is: 0.08935091277890467\n"
     ]
    },
    {
     "data": {
      "image/png": "[encoded data removed]",
      "text/plain": [
       "<Figure size 432x288 with 1 Axes>"
      ]
     },
     "metadata": {
      "needs_background": "light"
     },
     "output_type": "display_data"
    }
   ],
   "source": [
    "aps = calc_aps(simulations)"
   ]
  },
  {
   "cell_type": "markdown",
   "id": "8a8a1810",
   "metadata": {},
   "source": [
    "As can be seen in the histogram this approach is very inefficient and does not provide the needed output. The average precisions are very low to obtain enough simulations at all the desired levels of average precisions an unreasonable number of simulations would have to be created."
   ]
  },
  {
   "cell_type": "code",
   "execution_count": 17,
   "id": "1e65a7c4",
   "metadata": {},
   "outputs": [
    {
     "name": "stdout",
     "output_type": "stream",
     "text": [
      "Number of possible techniques: 566\n",
      "The average number of techniques used by a malware is: 12.985200845665961\n",
      "average probability of technique being used (p): 0.022942050964074135\n"
     ]
    }
   ],
   "source": [
    "avg_n_t = 0\n",
    "for mal in mal_gt.items():\n",
    "    avg_n_t += sum(mal[1])\n",
    "avg_n_t = avg_n_t/len(mal_gt)\n",
    "print(f\"Number of possible techniques: 566\")\n",
    "print(f\"The average number of techniques used by a malware is: {avg_n_t}\")\n",
    "p = avg_n_t/566\n",
    "print(f\"average probability of technique being used (p): {p}\")"
   ]
  },
  {
   "cell_type": "markdown",
   "id": "c9aced46",
   "metadata": {},
   "source": [
    "The results are to be expected since out of 566 possible techniques on average only 13 are used by a malware. Therefore another way of simulating the results needs to be developed taking this imbalance into account."
   ]
  },
  {
   "cell_type": "markdown",
   "id": "3fde97fc",
   "metadata": {},
   "source": [
    "### Bruteforce using Chisq distribution\n",
    "Drawing the technique probability from a chisq distribution with one degree of freedom therefore giving a preference towards not using a technique."
   ]
  },
  {
   "cell_type": "code",
   "execution_count": 126,
   "id": "2d07c1f9",
   "metadata": {},
   "outputs": [
    {
     "name": "stdout",
     "output_type": "stream",
     "text": [
      "Time needed to create 10000 technique probability vectors: 1.291959524154663s\n"
     ]
    }
   ],
   "source": [
    "N = 10000\n",
    "start = time.time()\n",
    "chi_simulations = []\n",
    "for i in range(N):\n",
    "    chi_simulations.append(np.clip(np.random.chisquare(1,566)/10, None, 1))\n",
    "t = time.time()-start\n",
    "print(f\"Time needed to create {N} technique probability vectors: {t}s\")"
   ]
  },
  {
   "cell_type": "code",
   "execution_count": 127,
   "id": "f95dd7cd",
   "metadata": {},
   "outputs": [
    {
     "name": "stdout",
     "output_type": "stream",
     "text": [
      "Time needed to calculate the average precisions for one Malware based on 10000 simulations: 8.009310483932495s\n",
      "The maximum obtained average precision is: 0.5462774742726465\n"
     ]
    },
    {
     "data": {
      "image/png": "[encoded data removed]",
      "text/plain": [
       "<Figure size 432x288 with 1 Axes>"
      ]
     },
     "metadata": {
      "needs_background": "light"
     },
     "output_type": "display_data"
    }
   ],
   "source": [
    "chi_aps = calc_aps(chi_simulations)"
   ]
  },
  {
   "cell_type": "markdown",
   "id": "7b467492",
   "metadata": {},
   "source": [
    "The results of this method are already a lot more promising the maximum average precision obtained is a lot higherthen when using a simple bruteforce methode. Still we can see from the histogram, that this method mostly creates simulations with a very low average precision. Therefore being very ineffective.\n",
    "### Using a binomial distribution with probability p\n",
    "In this approach the simulated technique vectors dont give a probability of a technique being used but instead a boolean value. With the probability of True (1) being the average probability a is being used over all malwares."
   ]
  },
  {
   "cell_type": "code",
   "execution_count": 20,
   "id": "4fc8f40b",
   "metadata": {},
   "outputs": [
    {
     "name": "stdout",
     "output_type": "stream",
     "text": [
      "Time needed to create 100000 technique probability vectors: 1.7409443855285645s\n"
     ]
    }
   ],
   "source": [
    "N = 100000\n",
    "start = time.time()\n",
    "bi_simulations = []\n",
    "for i in range(N):\n",
    "    bi_simulations.append(np.random.binomial(1, p, 566))\n",
    "t = time.time()-start\n",
    "print(f\"Time needed to create {N} technique probability vectors: {t}s\")"
   ]
  },
  {
   "cell_type": "code",
   "execution_count": 21,
   "id": "0711674f",
   "metadata": {},
   "outputs": [
    {
     "name": "stdout",
     "output_type": "stream",
     "text": [
      "Time needed to calculate the average precisions for one Malware based on 100000 simulations: 81.89340829849243s\n",
      "The maximum obtained average precision is: 0.28301678445229683\n"
     ]
    },
    {
     "data": {
      "image/png": "[encoded data removed]",
      "text/plain": [
       "<Figure size 432x288 with 1 Axes>"
      ]
     },
     "metadata": {
      "needs_background": "light"
     },
     "output_type": "display_data"
    }
   ],
   "source": [
    "bi_aps = calc_aps(bi_simulations)"
   ]
  },
  {
   "cell_type": "markdown",
   "id": "02d59d3f",
   "metadata": {},
   "source": [
    "### Using a binomial distribution with probability of only one malware\n",
    "The probabity of a technique being used is now the proportion of used techniques by one malware to its unuesd techniques."
   ]
  },
  {
   "cell_type": "code",
   "execution_count": 23,
   "id": "c9754601",
   "metadata": {},
   "outputs": [
    {
     "name": "stdout",
     "output_type": "stream",
     "text": [
      "0.007067137809187279\n",
      "Time needed to create 100000 technique probability vectors: 1.3109502792358398s\n"
     ]
    }
   ],
   "source": [
    "p_rat = sum(mal_gt[\"3PARA RAT\"])/566\n",
    "print(p_rat)\n",
    "N = 100000\n",
    "start = time.time()\n",
    "bi2_simulations = []\n",
    "for i in range(N):\n",
    "    bi2_simulations.append(np.random.binomial(1, p_rat, 566))\n",
    "t = time.time()-start\n",
    "print(f\"Time needed to create {N} technique probability vectors: {t}s\")"
   ]
  },
  {
   "cell_type": "code",
   "execution_count": 24,
   "id": "915b8507",
   "metadata": {},
   "outputs": [
    {
     "name": "stdout",
     "output_type": "stream",
     "text": [
      "Time needed to calculate the average precisions for one Malware based on 100000 simulations: 75.63863348960876s\n",
      "The maximum obtained average precision is: 0.336866902237927\n"
     ]
    },
    {
     "data": {
      "image/png": "[encoded data removed]",
      "text/plain": [
       "<Figure size 432x288 with 1 Axes>"
      ]
     },
     "metadata": {
      "needs_background": "light"
     },
     "output_type": "display_data"
    }
   ],
   "source": [
    "bi2_aps = calc_aps(bi2_simulations)"
   ]
  },
  {
   "cell_type": "markdown",
   "id": "ed0177f2",
   "metadata": {},
   "source": [
    "Using either of the probabilites does not yield very promising results. In order to get more accurate and efficient results the gt needs to be taken more into account\n",
    "### Using different probabilites based on gt\n",
    "Example if the technique in the gt is used the probability of it being in the simulation is higher then if not."
   ]
  },
  {
   "cell_type": "code",
   "execution_count": 111,
   "id": "e2aa9323",
   "metadata": {},
   "outputs": [],
   "source": [
    "mal_t = mal_gt[\"3PARA RAT\"]\n",
    "g = [i for i, e in enumerate(mal_t) if e == 1]"
   ]
  },
  {
   "cell_type": "code",
   "execution_count": 26,
   "id": "55838b8d",
   "metadata": {},
   "outputs": [],
   "source": [
    "for sim in bi_simulations:\n",
    "    for ind in g:\n",
    "        sim[ind] = np.random.binomial(1, 0.9, 1)"
   ]
  },
  {
   "cell_type": "code",
   "execution_count": 27,
   "id": "dcb6a492",
   "metadata": {},
   "outputs": [
    {
     "name": "stdout",
     "output_type": "stream",
     "text": [
      "Time needed to calculate the average precisions for one Malware based on 100000 simulations: 87.58623957633972s\n",
      "The maximum obtained average precision is: 0.8\n"
     ]
    },
    {
     "data": {
      "image/png": "[encoded data removed]",
      "text/plain": [
       "<Figure size 432x288 with 1 Axes>"
      ]
     },
     "metadata": {
      "needs_background": "light"
     },
     "output_type": "display_data"
    }
   ],
   "source": [
    "bi_aps = calc_aps(bi_simulations)"
   ]
  },
  {
   "cell_type": "markdown",
   "id": "dfb2b741",
   "metadata": {},
   "source": [
    "Results look a lot better, but a lot of aps are not among the values. Try the same thing with the chi_sq with multiple different dfs."
   ]
  },
  {
   "cell_type": "code",
   "execution_count": 124,
   "id": "ce2d285d",
   "metadata": {},
   "outputs": [
    {
     "name": "stdout",
     "output_type": "stream",
     "text": [
      "<class 'int'>\n",
      "Time needed to calculate the average precisions for one Malware based on 10000 simulations: 7.924750804901123s\n",
      "The maximum obtained average precision is: 1.0\n"
     ]
    },
    {
     "data": {
      "image/png": "[encoded data removed]",
      "text/plain": [
       "<Figure size 432x288 with 1 Axes>"
      ]
     },
     "metadata": {
      "needs_background": "light"
     },
     "output_type": "display_data"
    },
    {
     "name": "stdout",
     "output_type": "stream",
     "text": [
      "<class 'int'>\n",
      "Time needed to calculate the average precisions for one Malware based on 10000 simulations: 8.193742275238037s\n",
      "The maximum obtained average precision is: 1.0\n"
     ]
    },
    {
     "data": {
      "image/png": "[encoded data removed]",
      "text/plain": [
       "<Figure size 432x288 with 1 Axes>"
      ]
     },
     "metadata": {
      "needs_background": "light"
     },
     "output_type": "display_data"
    },
    {
     "name": "stdout",
     "output_type": "stream",
     "text": [
      "<class 'int'>\n",
      "Time needed to calculate the average precisions for one Malware based on 10000 simulations: 7.741765975952148s\n",
      "The maximum obtained average precision is: 1.0\n"
     ]
    },
    {
     "data": {
      "image/png": "[encoded data removed]",
      "text/plain": [
       "<Figure size 432x288 with 1 Axes>"
      ]
     },
     "metadata": {
      "needs_background": "light"
     },
     "output_type": "display_data"
    },
    {
     "name": "stdout",
     "output_type": "stream",
     "text": [
      "<class 'int'>\n",
      "Time needed to calculate the average precisions for one Malware based on 10000 simulations: 7.933759450912476s\n",
      "The maximum obtained average precision is: 1.0\n"
     ]
    },
    {
     "data": {
      "image/png": "[encoded data removed]",
      "text/plain": [
       "<Figure size 432x288 with 1 Axes>"
      ]
     },
     "metadata": {
      "needs_background": "light"
     },
     "output_type": "display_data"
    },
    {
     "name": "stdout",
     "output_type": "stream",
     "text": [
      "<class 'int'>\n",
      "Time needed to calculate the average precisions for one Malware based on 10000 simulations: 8.064746618270874s\n",
      "The maximum obtained average precision is: 1.0\n"
     ]
    },
    {
     "data": {
      "image/png": "[encoded data removed]",
      "text/plain": [
       "<Figure size 432x288 with 1 Axes>"
      ]
     },
     "metadata": {
      "needs_background": "light"
     },
     "output_type": "display_data"
    }
   ],
   "source": [
    "N = 10000\n",
    "aps_df = []\n",
    "for df in range(1, 6):\n",
    "    print(type(b))\n",
    "    chi_simulations = []\n",
    "    for i in range(N):\n",
    "        chi_simulations.append(np.clip(np.random.chisquare(1,566)/10, None, 1))\n",
    "    for sim in chi_simulations:\n",
    "        for ind in g:\n",
    "            sim[ind] = 1 - np.clip(np.random.chisquare(df, 1)/10, None, 1)\n",
    "    aps_df.append(calc_aps(chi_simulations))"
   ]
  },
  {
   "cell_type": "code",
   "execution_count": 125,
   "id": "67767ab3",
   "metadata": {},
   "outputs": [
    {
     "name": "stdout",
     "output_type": "stream",
     "text": [
      "[0, 1, 42, 386, 1305, 1860, 1737, 1455, 788, 826, 1600]\n",
      "[0, 51, 498, 1342, 2003, 1921, 1485, 969, 754, 484, 493]\n",
      "[13, 429, 1532, 2260, 2045, 1482, 986, 509, 425, 162, 157]\n",
      "[76, 1511, 2687, 2338, 1520, 910, 493, 242, 146, 50, 27]\n",
      "[374, 3079, 3085, 1778, 909, 413, 200, 103, 46, 8, 5]\n"
     ]
    }
   ],
   "source": [
    "for aps in aps_df:\n",
    "    rnd = [round(x, 1) for x in aps]\n",
    "    counts = []\n",
    "    for i in range(0, 11):\n",
    "        i = i/10\n",
    "        counts.append(rnd.count(i))\n",
    "    print(counts)"
   ]
  },
  {
   "cell_type": "code",
   "execution_count": 104,
   "id": "a15520ef",
   "metadata": {},
   "outputs": [
    {
     "data": {
      "text/plain": [
       "[1, 39, 452, 1336, 2081, 1910, 1557, 909, 752, 451, 512]"
      ]
     },
     "execution_count": 104,
     "metadata": {},
     "output_type": "execute_result"
    }
   ],
   "source": [
    "counts = []\n",
    "for i in range(0, 11):\n",
    "    i = i/10\n",
    "    counts.append(test.count(i))\n",
    "counts"
   ]
  },
  {
   "cell_type": "markdown",
   "id": "deaf2ef8",
   "metadata": {},
   "source": [
    "## Multiprocessing\n",
    "Multiprocessing improves the performance. It does however not run in notebook."
   ]
  },
  {
   "cell_type": "markdown",
   "id": "8cd88a35",
   "metadata": {},
   "source": [
    "Current status: have a look at how the chisq method performs on other malwares. Implement in CreateSim with multipr."
   ]
  },
  {
   "cell_type": "code",
   "execution_count": null,
   "id": "1e4c1fae",
   "metadata": {},
   "outputs": [],
   "source": []
  }
 ],
 "metadata": {
  "kernelspec": {
   "display_name": "Python 3 (ipykernel)",
   "language": "python",
   "name": "python3"
  },
  "language_info": {
   "codemirror_mode": {
    "name": "ipython",
    "version": 3
   },
   "file_extension": ".py",
   "mimetype": "text/x-python",
   "name": "python",
   "nbconvert_exporter": "python",
   "pygments_lexer": "ipython3",
   "version": "3.8.12"
  }
 },
 "nbformat": 4,
 "nbformat_minor": 5
}
