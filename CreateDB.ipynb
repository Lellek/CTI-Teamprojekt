{
 "cells": [
  {
   "cell_type": "markdown",
   "id": "a257142d",
   "metadata": {},
   "source": [
    "## Import modules"
   ]
  },
  {
   "cell_type": "code",
   "execution_count": 2,
   "id": "2297ba6a",
   "metadata": {},
   "outputs": [],
   "source": [
    "from neo4j import GraphDatabase\n",
    "from bs4 import BeautifulSoup\n",
    "import requests\n",
    "import re\n",
    "import pandas as pd"
   ]
  },
  {
   "cell_type": "markdown",
   "id": "7f92a564",
   "metadata": {},
   "source": [
    "## Establish Connection with Database"
   ]
  },
  {
   "cell_type": "code",
   "execution_count": 4,
   "id": "8f413208",
   "metadata": {},
   "outputs": [],
   "source": [
    "class Neo4jConnection:\n",
    "    \n",
    "    def __init__(self, uri, user, pwd):\n",
    "        self.__uri = uri\n",
    "        self.__user = user\n",
    "        self.__pwd = pwd\n",
    "        self.__driver = None\n",
    "        try:\n",
    "            self.__driver = GraphDatabase.driver(self.__uri, auth=(self.__user, self.__pwd))\n",
    "        except Exception as e:\n",
    "            print(\"Failed to create the driver:\", e)\n",
    "        \n",
    "    def close(self):\n",
    "        if self.__driver is not None:\n",
    "            self.__driver.close()\n",
    "        \n",
    "    def query(self, query, db=None):\n",
    "        assert self.__driver is not None, \"Driver not initialized!\"\n",
    "        session = None\n",
    "        response = None\n",
    "        try: \n",
    "            session = self.__driver.session(database=db) if db is not None else self.__driver.session() \n",
    "            response = list(session.run(query))\n",
    "        except Exception as e:\n",
    "            print(\"Query failed:\", e)\n",
    "        finally: \n",
    "            if session is not None:\n",
    "                session.close()\n",
    "        return response"
   ]
  },
  {
   "cell_type": "code",
   "execution_count": 10,
   "id": "d53124e4",
   "metadata": {},
   "outputs": [],
   "source": [
    "conn = Neo4jConnection(uri=\"bolt://localhost:7687\", user=\"neo4j\", pwd=\"team\")"
   ]
  },
  {
   "cell_type": "markdown",
   "id": "e1308a53",
   "metadata": {},
   "source": [
    "## Create Attack nodes"
   ]
  },
  {
   "cell_type": "code",
   "execution_count": 11,
   "id": "9f7cc87b",
   "metadata": {},
   "outputs": [],
   "source": [
    "attack_path = 'https://attack.mitre.org/docs/enterprise-attack-v10.1/enterprise-attack-v10.1-techniques.xlsx'\n",
    "#defend_path = 'https://d3fend.mitre.org/ontologies/d3fend.csv'"
   ]
  },
  {
   "cell_type": "code",
   "execution_count": 12,
   "id": "cfade552",
   "metadata": {},
   "outputs": [],
   "source": [
    "attack_df = pd.read_excel(attack_path)\n",
    "#defend_df = pd.read_csv(defend_path)"
   ]
  },
  {
   "cell_type": "code",
   "execution_count": 13,
   "id": "e0343ae9",
   "metadata": {},
   "outputs": [],
   "source": [
    "#parent_attacks = attack_df[attack_df[\"ID\"].str.len() < 6]\n",
    "#child_attacks = attack_df[attack_df[\"ID\"].str.len() > 5]"
   ]
  },
  {
   "cell_type": "code",
   "execution_count": 14,
   "id": "26546c2b",
   "metadata": {},
   "outputs": [],
   "source": [
    "for index, row in attack_df.iterrows():\n",
    "    conn.query(\"CREATE (n:Attack{ID:'\" + row[0] + \"', name:'\" + row[1] + \"'})\")"
   ]
  },
  {
   "cell_type": "markdown",
   "id": "322ab898",
   "metadata": {},
   "source": [
    "## Scrape Relation Data"
   ]
  },
  {
   "cell_type": "code",
   "execution_count": 15,
   "id": "91f4e033",
   "metadata": {},
   "outputs": [],
   "source": [
    "attack_techniques = attack_df.iloc[:, 0]"
   ]
  },
  {
   "cell_type": "code",
   "execution_count": 16,
   "id": "e26ff1bf",
   "metadata": {},
   "outputs": [],
   "source": [
    "attack_artifact = []\n",
    "defend_artifact = []\n",
    "defend_attack = []"
   ]
  },
  {
   "cell_type": "code",
   "execution_count": 17,
   "id": "d7b7bb51",
   "metadata": {},
   "outputs": [],
   "source": [
    "for attack_t in attack_techniques:\n",
    "    \n",
    "    url = f'https://d3fend.mitre.org/offensive-technique/attack/{attack_t}'\n",
    "    page = requests.get(url).content\n",
    "    soup = BeautifulSoup(page, 'html.parser')\n",
    "\n",
    "    try:\n",
    "        match = soup.find('div', class_='hidden').text\n",
    "    except:\n",
    "        continue\n",
    "\n",
    "    step_0 = re.sub(r'\\s+', '', match)  # delete whitespaces\n",
    "    step_1 = step_0.split(';') #split after ;\n",
    "    step_2 = [string for string in step_1 if '-->' in string] #delete elements without '-->'\n",
    "    for step in range(len(step_2)):\n",
    "        step_3 = re.sub(r'\\[[^]]*\\]', '', step_2[step]) #delete things in parentheses '[]'\n",
    "        step_4 = re.sub(r'-->', '', step_3) #delete '-->'\n",
    "        step_5 = step_4.replace('-', '_') #replaces '-' with '_'\n",
    "        step_6 = step_5.split('|') #split by seperator '|'#\n",
    "\n",
    "        if step_6[0].startswith('T1'):\n",
    "            if len(step_6[0]) > 5:\n",
    "                step_6[0] = step_6[0][:5] + '.' + step_6[0][5:]\n",
    "            attack_artifact.append(step_6)\n",
    "\n",
    "        elif step_6[2].startswith('T1'):\n",
    "            if len(step_6[2]) > 5:\n",
    "                step_6[2] = step_6[2][:5] + '.' + step_6[2][5:]\n",
    "            defend_attack.append(step_6)\n",
    "\n",
    "        else:\n",
    "            defend_artifact.append(step_6)"
   ]
  },
  {
   "cell_type": "markdown",
   "id": "a286f802",
   "metadata": {},
   "source": [
    "## Create DEFEND, Artifact Nodes and create relation"
   ]
  },
  {
   "cell_type": "markdown",
   "id": "2227b2ef",
   "metadata": {},
   "source": [
    "Attack -> Artifact"
   ]
  },
  {
   "cell_type": "code",
   "execution_count": 21,
   "id": "1195bd7a",
   "metadata": {},
   "outputs": [],
   "source": [
    "for row in attack_artifact:\n",
    "    conn.query(\"MERGE (at:Attack{ID:'\" + row[0] + \"'}) \\\n",
    "               MERGE (ar:Artifact{name:'\" + row[2] + \"'}) \\\n",
    "               MERGE (at)-[:\" + row[1] + \"]->(ar)\")"
   ]
  },
  {
   "cell_type": "markdown",
   "id": "09b81831",
   "metadata": {},
   "source": [
    "Defend -> Artifact"
   ]
  },
  {
   "cell_type": "code",
   "execution_count": 22,
   "id": "cf639492",
   "metadata": {},
   "outputs": [],
   "source": [
    "for row in defend_artifact:\n",
    "    conn.query(\"MERGE (de:Defend{name:'\" + row[0] + \"'}) \\\n",
    "               MERGE (ar:Artifact{name:'\" + row[2] + \"'}) \\\n",
    "               MERGE (de)-[:\" + row[1] + \"]->(ar)\")"
   ]
  },
  {
   "cell_type": "markdown",
   "id": "39cca4e0",
   "metadata": {},
   "source": [
    "Defend -> Attack"
   ]
  },
  {
   "cell_type": "code",
   "execution_count": 23,
   "id": "afe2797a",
   "metadata": {},
   "outputs": [],
   "source": [
    "for row in defend_attack:\n",
    "    conn.query(\"MERGE (de:Defend{name:'\" + row[0] + \"'}) \\\n",
    "               MERGE (at:Attack{ID:'\" + row[2] + \"'}) \\\n",
    "               MERGE (de)-[:\" + row[1] + \"]->(at)\")"
   ]
  },
  {
   "cell_type": "code",
   "execution_count": null,
   "id": "a2f65a2c",
   "metadata": {},
   "outputs": [],
   "source": []
  }
 ],
 "metadata": {
  "kernelspec": {
   "display_name": "Python 3 (ipykernel)",
   "language": "python",
   "name": "python3"
  },
  "language_info": {
   "codemirror_mode": {
    "name": "ipython",
    "version": 3
   },
   "file_extension": ".py",
   "mimetype": "text/x-python",
   "name": "python",
   "nbconvert_exporter": "python",
   "pygments_lexer": "ipython3",
   "version": "3.8.12"
  }
 },
 "nbformat": 4,
 "nbformat_minor": 5
}
